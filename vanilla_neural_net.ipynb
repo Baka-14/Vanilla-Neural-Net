{
 "cells": [
  {
   "cell_type": "code",
   "execution_count": 1,
   "metadata": {},
   "outputs": [],
   "source": [
    "import numpy as np\n",
    "import pandas as pd \n",
    "import matplotlib.pyplot as plt\n"
   ]
  },
  {
   "cell_type": "code",
   "execution_count": 2,
   "metadata": {},
   "outputs": [
    {
     "data": {
      "text/html": [
       "<div>\n",
       "<style scoped>\n",
       "    .dataframe tbody tr th:only-of-type {\n",
       "        vertical-align: middle;\n",
       "    }\n",
       "\n",
       "    .dataframe tbody tr th {\n",
       "        vertical-align: top;\n",
       "    }\n",
       "\n",
       "    .dataframe thead th {\n",
       "        text-align: right;\n",
       "    }\n",
       "</style>\n",
       "<table border=\"1\" class=\"dataframe\">\n",
       "  <thead>\n",
       "    <tr style=\"text-align: right;\">\n",
       "      <th></th>\n",
       "      <th>label</th>\n",
       "      <th>pixel0</th>\n",
       "      <th>pixel1</th>\n",
       "      <th>pixel2</th>\n",
       "      <th>pixel3</th>\n",
       "      <th>pixel4</th>\n",
       "      <th>pixel5</th>\n",
       "      <th>pixel6</th>\n",
       "      <th>pixel7</th>\n",
       "      <th>pixel8</th>\n",
       "      <th>...</th>\n",
       "      <th>pixel774</th>\n",
       "      <th>pixel775</th>\n",
       "      <th>pixel776</th>\n",
       "      <th>pixel777</th>\n",
       "      <th>pixel778</th>\n",
       "      <th>pixel779</th>\n",
       "      <th>pixel780</th>\n",
       "      <th>pixel781</th>\n",
       "      <th>pixel782</th>\n",
       "      <th>pixel783</th>\n",
       "    </tr>\n",
       "  </thead>\n",
       "  <tbody>\n",
       "    <tr>\n",
       "      <th>0</th>\n",
       "      <td>1</td>\n",
       "      <td>0</td>\n",
       "      <td>0</td>\n",
       "      <td>0</td>\n",
       "      <td>0</td>\n",
       "      <td>0</td>\n",
       "      <td>0</td>\n",
       "      <td>0</td>\n",
       "      <td>0</td>\n",
       "      <td>0</td>\n",
       "      <td>...</td>\n",
       "      <td>0</td>\n",
       "      <td>0</td>\n",
       "      <td>0</td>\n",
       "      <td>0</td>\n",
       "      <td>0</td>\n",
       "      <td>0</td>\n",
       "      <td>0</td>\n",
       "      <td>0</td>\n",
       "      <td>0</td>\n",
       "      <td>0</td>\n",
       "    </tr>\n",
       "    <tr>\n",
       "      <th>1</th>\n",
       "      <td>0</td>\n",
       "      <td>0</td>\n",
       "      <td>0</td>\n",
       "      <td>0</td>\n",
       "      <td>0</td>\n",
       "      <td>0</td>\n",
       "      <td>0</td>\n",
       "      <td>0</td>\n",
       "      <td>0</td>\n",
       "      <td>0</td>\n",
       "      <td>...</td>\n",
       "      <td>0</td>\n",
       "      <td>0</td>\n",
       "      <td>0</td>\n",
       "      <td>0</td>\n",
       "      <td>0</td>\n",
       "      <td>0</td>\n",
       "      <td>0</td>\n",
       "      <td>0</td>\n",
       "      <td>0</td>\n",
       "      <td>0</td>\n",
       "    </tr>\n",
       "    <tr>\n",
       "      <th>2</th>\n",
       "      <td>1</td>\n",
       "      <td>0</td>\n",
       "      <td>0</td>\n",
       "      <td>0</td>\n",
       "      <td>0</td>\n",
       "      <td>0</td>\n",
       "      <td>0</td>\n",
       "      <td>0</td>\n",
       "      <td>0</td>\n",
       "      <td>0</td>\n",
       "      <td>...</td>\n",
       "      <td>0</td>\n",
       "      <td>0</td>\n",
       "      <td>0</td>\n",
       "      <td>0</td>\n",
       "      <td>0</td>\n",
       "      <td>0</td>\n",
       "      <td>0</td>\n",
       "      <td>0</td>\n",
       "      <td>0</td>\n",
       "      <td>0</td>\n",
       "    </tr>\n",
       "    <tr>\n",
       "      <th>3</th>\n",
       "      <td>4</td>\n",
       "      <td>0</td>\n",
       "      <td>0</td>\n",
       "      <td>0</td>\n",
       "      <td>0</td>\n",
       "      <td>0</td>\n",
       "      <td>0</td>\n",
       "      <td>0</td>\n",
       "      <td>0</td>\n",
       "      <td>0</td>\n",
       "      <td>...</td>\n",
       "      <td>0</td>\n",
       "      <td>0</td>\n",
       "      <td>0</td>\n",
       "      <td>0</td>\n",
       "      <td>0</td>\n",
       "      <td>0</td>\n",
       "      <td>0</td>\n",
       "      <td>0</td>\n",
       "      <td>0</td>\n",
       "      <td>0</td>\n",
       "    </tr>\n",
       "    <tr>\n",
       "      <th>4</th>\n",
       "      <td>0</td>\n",
       "      <td>0</td>\n",
       "      <td>0</td>\n",
       "      <td>0</td>\n",
       "      <td>0</td>\n",
       "      <td>0</td>\n",
       "      <td>0</td>\n",
       "      <td>0</td>\n",
       "      <td>0</td>\n",
       "      <td>0</td>\n",
       "      <td>...</td>\n",
       "      <td>0</td>\n",
       "      <td>0</td>\n",
       "      <td>0</td>\n",
       "      <td>0</td>\n",
       "      <td>0</td>\n",
       "      <td>0</td>\n",
       "      <td>0</td>\n",
       "      <td>0</td>\n",
       "      <td>0</td>\n",
       "      <td>0</td>\n",
       "    </tr>\n",
       "  </tbody>\n",
       "</table>\n",
       "<p>5 rows × 785 columns</p>\n",
       "</div>"
      ],
      "text/plain": [
       "   label  pixel0  pixel1  pixel2  pixel3  pixel4  pixel5  pixel6  pixel7  \\\n",
       "0      1       0       0       0       0       0       0       0       0   \n",
       "1      0       0       0       0       0       0       0       0       0   \n",
       "2      1       0       0       0       0       0       0       0       0   \n",
       "3      4       0       0       0       0       0       0       0       0   \n",
       "4      0       0       0       0       0       0       0       0       0   \n",
       "\n",
       "   pixel8  ...  pixel774  pixel775  pixel776  pixel777  pixel778  pixel779  \\\n",
       "0       0  ...         0         0         0         0         0         0   \n",
       "1       0  ...         0         0         0         0         0         0   \n",
       "2       0  ...         0         0         0         0         0         0   \n",
       "3       0  ...         0         0         0         0         0         0   \n",
       "4       0  ...         0         0         0         0         0         0   \n",
       "\n",
       "   pixel780  pixel781  pixel782  pixel783  \n",
       "0         0         0         0         0  \n",
       "1         0         0         0         0  \n",
       "2         0         0         0         0  \n",
       "3         0         0         0         0  \n",
       "4         0         0         0         0  \n",
       "\n",
       "[5 rows x 785 columns]"
      ]
     },
     "execution_count": 2,
     "metadata": {},
     "output_type": "execute_result"
    }
   ],
   "source": [
    "data=pd.read_csv(\"/Users/apple/Desktop/code/Vanilla-Neural-Net/train.csv\")\n",
    "data.head()"
   ]
  },
  {
   "cell_type": "code",
   "execution_count": 5,
   "metadata": {},
   "outputs": [],
   "source": [
    "data=np.array(data)\n",
    "m,n=data.shape\n",
    "np.random.shuffle(data)\n",
    "\n",
    "data_dev=data[0:1000].T\n",
    "x_dev=data_dev[1:n]\n",
    "y_dev=data_dev[0]\n",
    "\n",
    "data_train=data[1000:m].T\n",
    "y_train=data_train[0]\n",
    "x_train=data_train[1:n] \n"
   ]
  },
  {
   "cell_type": "markdown",
   "metadata": {},
   "source": [
    "#### Intializtion of weigths"
   ]
  },
  {
   "cell_type": "code",
   "execution_count": 6,
   "metadata": {},
   "outputs": [],
   "source": [
    "def init_params():\n",
    "    W1 = np.random.rand(10, 784) - 0.5\n",
    "    b1 = np.random.rand(10, 1) - 0.5\n",
    "    W2 = np.random.rand(10, 10) - 0.5\n",
    "    b2 = np.random.rand(10, 1) - 0.5\n",
    "    return W1, b1, W2, b2"
   ]
  },
  {
   "cell_type": "markdown",
   "metadata": {},
   "source": [
    "#### Forward propagation"
   ]
  },
  {
   "cell_type": "code",
   "execution_count": 14,
   "metadata": {},
   "outputs": [],
   "source": [
    "def ReLU(Z):\n",
    "    return np.maximum(Z, 0)\n",
    "\n",
    "def softmax(Z):\n",
    "    A = np.exp(Z) / sum(np.exp(Z))\n",
    "    return A\n",
    "    \n",
    "def forward_prop(W1, b1, W2, b2, X):\n",
    "    Z1 = W1.dot(X) + b1\n",
    "    A1 = ReLU(Z1)\n",
    "    Z2 = W2.dot(A1) + b2\n",
    "    A2 = softmax(Z2)\n",
    "    return Z1, A1, Z2, A2\n"
   ]
  },
  {
   "cell_type": "markdown",
   "metadata": {},
   "source": [
    "#### Back propagation"
   ]
  },
  {
   "cell_type": "code",
   "execution_count": 15,
   "metadata": {},
   "outputs": [],
   "source": [
    "def one_hot(Y):\n",
    "    one_hot_Y = np.zeros((Y.size, Y.max() + 1))\n",
    "    one_hot_Y[np.arange(Y.size), Y] = 1\n",
    "    one_hot_Y = one_hot_Y.T\n",
    "    return one_hot_Y\n",
    "\n",
    "def ReLU_deriv(Z):\n",
    "    return Z>0\n",
    "    \n",
    "def backward_prop(Z1, A1, Z2, A2, W1, W2, X, Y):\n",
    "    one_hot_Y = one_hot(Y)\n",
    "    dZ2 = A2 - one_hot_Y\n",
    "    dW2 = 1 / m * dZ2.dot(A1.T)\n",
    "    db2 = 1 / m * np.sum(dZ2)\n",
    "    dZ1 = W2.T.dot(dZ2) * ReLU_deriv(Z1)\n",
    "    dW1 = 1 / m * dZ1.dot(X.T)\n",
    "    db1 = 1 / m * np.sum(dZ1)\n",
    "    return dW1, db1, dW2, db2\n",
    "\n",
    "def update_params(W1, b1, W2, b2, dW1, db1, dW2, db2, alpha):\n",
    "    W1 = W1 - alpha * dW1\n",
    "    b1 = b1 - alpha * db1    \n",
    "    W2 = W2 - alpha * dW2  \n",
    "    b2 = b2 - alpha * db2    \n",
    "    return W1, b1, W2, b2 \n"
   ]
  },
  {
   "cell_type": "markdown",
   "metadata": {},
   "source": [
    "#### Running the iterations with the help of gradient descent"
   ]
  },
  {
   "cell_type": "code",
   "execution_count": 16,
   "metadata": {},
   "outputs": [],
   "source": [
    "def get_predictions(A2):\n",
    "    return np.argmax(A2, 0)\n",
    "\n",
    "def get_accuracy(predictions, Y):\n",
    "    print(predictions, Y)\n",
    "    return np.sum(predictions == Y) / Y.size\n",
    "\n",
    "def gradient_descent(X, Y, alpha, iterations):\n",
    "    W1, b1, W2, b2 = init_params()\n",
    "    for i in range(iterations):\n",
    "        Z1, A1, Z2, A2 = forward_prop(W1, b1, W2, b2, X)\n",
    "        dW1, db1, dW2, db2 = backward_prop(Z1, A1, Z2, A2, W1, W2, X, Y)\n",
    "        W1, b1, W2, b2 = update_params(W1, b1, W2, b2, dW1, db1, dW2, db2, alpha)\n",
    "        if i % 10 == 0:\n",
    "            print(\"Iteration: \", i)\n",
    "            predictions = get_predictions(A2)\n",
    "            print(get_accuracy(predictions, Y))\n",
    "    return W1, b1, W2, b2\n",
    "\n",
    "    "
   ]
  },
  {
   "cell_type": "code",
   "execution_count": 17,
   "metadata": {},
   "outputs": [
    {
     "name": "stderr",
     "output_type": "stream",
     "text": [
      "/var/folders/x3/1_8bpngd30bbcm7593777b900000gn/T/ipykernel_83014/2963199872.py:5: RuntimeWarning: overflow encountered in exp\n",
      "  A = np.exp(Z) / sum(np.exp(Z))\n",
      "/var/folders/x3/1_8bpngd30bbcm7593777b900000gn/T/ipykernel_83014/2963199872.py:5: RuntimeWarning: invalid value encountered in true_divide\n",
      "  A = np.exp(Z) / sum(np.exp(Z))\n"
     ]
    },
    {
     "name": "stdout",
     "output_type": "stream",
     "text": [
      "Iteration:  0\n",
      "[7 9 4 ... 7 9 9] [9 9 3 ... 8 1 0]\n",
      "0.0864390243902439\n",
      "Iteration:  10\n",
      "[0 0 0 ... 0 0 0] [9 9 3 ... 8 1 0]\n",
      "0.09829268292682927\n",
      "Iteration:  20\n",
      "[0 0 0 ... 0 0 0] [9 9 3 ... 8 1 0]\n",
      "0.09829268292682927\n",
      "Iteration:  30\n",
      "[0 0 0 ... 0 0 0] [9 9 3 ... 8 1 0]\n",
      "0.09829268292682927\n",
      "Iteration:  40\n",
      "[0 0 0 ... 0 0 0] [9 9 3 ... 8 1 0]\n",
      "0.09829268292682927\n",
      "Iteration:  50\n",
      "[0 0 0 ... 0 0 0] [9 9 3 ... 8 1 0]\n",
      "0.09829268292682927\n",
      "Iteration:  60\n",
      "[0 0 0 ... 0 0 0] [9 9 3 ... 8 1 0]\n",
      "0.09829268292682927\n",
      "Iteration:  70\n",
      "[0 0 0 ... 0 0 0] [9 9 3 ... 8 1 0]\n",
      "0.09829268292682927\n",
      "Iteration:  80\n",
      "[0 0 0 ... 0 0 0] [9 9 3 ... 8 1 0]\n",
      "0.09829268292682927\n",
      "Iteration:  90\n",
      "[0 0 0 ... 0 0 0] [9 9 3 ... 8 1 0]\n",
      "0.09829268292682927\n",
      "Iteration:  100\n",
      "[0 0 0 ... 0 0 0] [9 9 3 ... 8 1 0]\n",
      "0.09829268292682927\n",
      "Iteration:  110\n",
      "[0 0 0 ... 0 0 0] [9 9 3 ... 8 1 0]\n",
      "0.09829268292682927\n",
      "Iteration:  120\n",
      "[0 0 0 ... 0 0 0] [9 9 3 ... 8 1 0]\n",
      "0.09829268292682927\n",
      "Iteration:  130\n",
      "[0 0 0 ... 0 0 0] [9 9 3 ... 8 1 0]\n",
      "0.09829268292682927\n",
      "Iteration:  140\n",
      "[0 0 0 ... 0 0 0] [9 9 3 ... 8 1 0]\n",
      "0.09829268292682927\n",
      "Iteration:  150\n",
      "[0 0 0 ... 0 0 0] [9 9 3 ... 8 1 0]\n",
      "0.09829268292682927\n",
      "Iteration:  160\n",
      "[0 0 0 ... 0 0 0] [9 9 3 ... 8 1 0]\n",
      "0.09829268292682927\n",
      "Iteration:  170\n",
      "[0 0 0 ... 0 0 0] [9 9 3 ... 8 1 0]\n",
      "0.09829268292682927\n",
      "Iteration:  180\n",
      "[0 0 0 ... 0 0 0] [9 9 3 ... 8 1 0]\n",
      "0.09829268292682927\n",
      "Iteration:  190\n",
      "[0 0 0 ... 0 0 0] [9 9 3 ... 8 1 0]\n",
      "0.09829268292682927\n",
      "Iteration:  200\n",
      "[0 0 0 ... 0 0 0] [9 9 3 ... 8 1 0]\n",
      "0.09829268292682927\n",
      "Iteration:  210\n",
      "[0 0 0 ... 0 0 0] [9 9 3 ... 8 1 0]\n",
      "0.09829268292682927\n",
      "Iteration:  220\n",
      "[0 0 0 ... 0 0 0] [9 9 3 ... 8 1 0]\n",
      "0.09829268292682927\n",
      "Iteration:  230\n",
      "[0 0 0 ... 0 0 0] [9 9 3 ... 8 1 0]\n",
      "0.09829268292682927\n",
      "Iteration:  240\n",
      "[0 0 0 ... 0 0 0] [9 9 3 ... 8 1 0]\n",
      "0.09829268292682927\n",
      "Iteration:  250\n",
      "[0 0 0 ... 0 0 0] [9 9 3 ... 8 1 0]\n",
      "0.09829268292682927\n",
      "Iteration:  260\n",
      "[0 0 0 ... 0 0 0] [9 9 3 ... 8 1 0]\n",
      "0.09829268292682927\n",
      "Iteration:  270\n",
      "[0 0 0 ... 0 0 0] [9 9 3 ... 8 1 0]\n",
      "0.09829268292682927\n",
      "Iteration:  280\n",
      "[0 0 0 ... 0 0 0] [9 9 3 ... 8 1 0]\n",
      "0.09829268292682927\n",
      "Iteration:  290\n",
      "[0 0 0 ... 0 0 0] [9 9 3 ... 8 1 0]\n",
      "0.09829268292682927\n",
      "Iteration:  300\n",
      "[0 0 0 ... 0 0 0] [9 9 3 ... 8 1 0]\n",
      "0.09829268292682927\n",
      "Iteration:  310\n",
      "[0 0 0 ... 0 0 0] [9 9 3 ... 8 1 0]\n",
      "0.09829268292682927\n",
      "Iteration:  320\n",
      "[0 0 0 ... 0 0 0] [9 9 3 ... 8 1 0]\n",
      "0.09829268292682927\n",
      "Iteration:  330\n",
      "[0 0 0 ... 0 0 0] [9 9 3 ... 8 1 0]\n",
      "0.09829268292682927\n",
      "Iteration:  340\n",
      "[0 0 0 ... 0 0 0] [9 9 3 ... 8 1 0]\n",
      "0.09829268292682927\n",
      "Iteration:  350\n",
      "[0 0 0 ... 0 0 0] [9 9 3 ... 8 1 0]\n",
      "0.09829268292682927\n",
      "Iteration:  360\n",
      "[0 0 0 ... 0 0 0] [9 9 3 ... 8 1 0]\n",
      "0.09829268292682927\n",
      "Iteration:  370\n",
      "[0 0 0 ... 0 0 0] [9 9 3 ... 8 1 0]\n",
      "0.09829268292682927\n",
      "Iteration:  380\n",
      "[0 0 0 ... 0 0 0] [9 9 3 ... 8 1 0]\n",
      "0.09829268292682927\n",
      "Iteration:  390\n",
      "[0 0 0 ... 0 0 0] [9 9 3 ... 8 1 0]\n",
      "0.09829268292682927\n",
      "Iteration:  400\n",
      "[0 0 0 ... 0 0 0] [9 9 3 ... 8 1 0]\n",
      "0.09829268292682927\n",
      "Iteration:  410\n",
      "[0 0 0 ... 0 0 0] [9 9 3 ... 8 1 0]\n",
      "0.09829268292682927\n",
      "Iteration:  420\n",
      "[0 0 0 ... 0 0 0] [9 9 3 ... 8 1 0]\n",
      "0.09829268292682927\n",
      "Iteration:  430\n",
      "[0 0 0 ... 0 0 0] [9 9 3 ... 8 1 0]\n",
      "0.09829268292682927\n",
      "Iteration:  440\n",
      "[0 0 0 ... 0 0 0] [9 9 3 ... 8 1 0]\n",
      "0.09829268292682927\n",
      "Iteration:  450\n",
      "[0 0 0 ... 0 0 0] [9 9 3 ... 8 1 0]\n",
      "0.09829268292682927\n",
      "Iteration:  460\n",
      "[0 0 0 ... 0 0 0] [9 9 3 ... 8 1 0]\n",
      "0.09829268292682927\n",
      "Iteration:  470\n",
      "[0 0 0 ... 0 0 0] [9 9 3 ... 8 1 0]\n",
      "0.09829268292682927\n",
      "Iteration:  480\n",
      "[0 0 0 ... 0 0 0] [9 9 3 ... 8 1 0]\n",
      "0.09829268292682927\n",
      "Iteration:  490\n",
      "[0 0 0 ... 0 0 0] [9 9 3 ... 8 1 0]\n",
      "0.09829268292682927\n"
     ]
    }
   ],
   "source": [
    "W1, b1, W2, b2 = gradient_descent(x_train, y_train, 0.10, 500)"
   ]
  },
  {
   "cell_type": "code",
   "execution_count": 22,
   "metadata": {},
   "outputs": [],
   "source": [
    "def make_predictions(X, W1, b1, W2, b2):\n",
    "    _, _, _, A2 = forward_prop(W1, b1, W2, b2, X)\n",
    "    predictions = get_predictions(A2)\n",
    "    return predictions\n",
    "\n",
    "def test_prediction(index, W1, b1, W2, b2):\n",
    "    current_image = x_train[:, index, None]\n",
    "    prediction = make_predictions(x_train[:, index, None], W1, b1, W2, b2)\n",
    "    label = y_train[index]\n",
    "    print(\"Prediction: \", prediction)\n",
    "    print(\"Label: \", label)\n",
    "    \n",
    "    current_image = current_image.reshape((28, 28)) * 255\n",
    "    plt.gray()\n",
    "    plt.imshow(current_image, interpolation='nearest')\n",
    "    plt.show()"
   ]
  },
  {
   "cell_type": "code",
   "execution_count": 23,
   "metadata": {},
   "outputs": [
    {
     "name": "stdout",
     "output_type": "stream",
     "text": [
      "Prediction:  [0]\n",
      "Label:  9\n"
     ]
    },
    {
     "data": {
      "image/png": "[encoded data removed]",
      "text/plain": [
       "<Figure size 432x288 with 1 Axes>"
      ]
     },
     "metadata": {
      "needs_background": "light"
     },
     "output_type": "display_data"
    },
    {
     "name": "stdout",
     "output_type": "stream",
     "text": [
      "Prediction:  [0]\n",
      "Label:  9\n"
     ]
    },
    {
     "data": {
      "image/png": "[encoded data removed]",
      "text/plain": [
       "<Figure size 432x288 with 1 Axes>"
      ]
     },
     "metadata": {
      "needs_background": "light"
     },
     "output_type": "display_data"
    },
    {
     "name": "stdout",
     "output_type": "stream",
     "text": [
      "Prediction:  [0]\n",
      "Label:  3\n"
     ]
    },
    {
     "data": {
      "image/png": "[encoded data removed]",
      "text/plain": [
       "<Figure size 432x288 with 1 Axes>"
      ]
     },
     "metadata": {
      "needs_background": "light"
     },
     "output_type": "display_data"
    },
    {
     "name": "stdout",
     "output_type": "stream",
     "text": [
      "Prediction:  [0]\n",
      "Label:  6\n"
     ]
    },
    {
     "data": {
      "image/png": "[encoded data removed]",
      "text/plain": [
       "<Figure size 432x288 with 1 Axes>"
      ]
     },
     "metadata": {
      "needs_background": "light"
     },
     "output_type": "display_data"
    }
   ],
   "source": [
    "test_prediction(0, W1, b1, W2, b2)\n",
    "test_prediction(1, W1, b1, W2, b2)\n",
    "test_prediction(2, W1, b1, W2, b2)\n",
    "test_prediction(3, W1, b1, W2, b2)"
   ]
  },
  {
   "cell_type": "code",
   "execution_count": 25,
   "metadata": {},
   "outputs": [
    {
     "name": "stdout",
     "output_type": "stream",
     "text": [
      "[0 0 0 0 0 0 0 0 0 0 0 0 0 0 0 0 0 0 0 0 0 0 0 0 0 0 0 0 0 0 0 0 0 0 0 0 0\n",
      " 0 0 0 0 0 0 0 0 0 0 0 0 0 0 0 0 0 0 0 0 0 0 0 0 0 0 0 0 0 0 0 0 0 0 0 0 0\n",
      " 0 0 0 0 0 0 0 0 0 0 0 0 0 0 0 0 0 0 0 0 0 0 0 0 0 0 0 0 0 0 0 0 0 0 0 0 0\n",
      " 0 0 0 0 0 0 0 0 0 0 0 0 0 0 0 0 0 0 0 0 0 0 0 0 0 0 0 0 0 0 0 0 0 0 0 0 0\n",
      " 0 0 0 0 0 0 0 0 0 0 0 0 0 0 0 0 0 0 0 0 0 0 0 0 0 0 0 0 0 0 0 0 0 0 0 0 0\n",
      " 0 0 0 0 0 0 0 0 0 0 0 0 0 0 0 0 0 0 0 0 0 0 0 0 0 0 0 0 0 0 0 0 0 0 0 0 0\n",
      " 0 0 0 0 0 0 0 0 0 0 0 0 0 0 0 0 0 0 0 0 0 0 0 0 0 0 0 0 0 0 0 0 0 0 0 0 0\n",
      " 0 0 0 0 0 0 0 0 0 0 0 0 0 0 0 0 0 0 0 0 0 0 0 0 0 0 0 0 0 0 0 0 0 0 0 0 0\n",
      " 0 0 0 0 0 0 0 0 0 0 0 0 0 0 0 0 0 0 0 0 0 0 0 0 0 0 0 0 0 0 0 0 0 0 0 0 0\n",
      " 0 0 0 0 0 0 0 0 0 0 0 0 0 0 0 0 0 0 0 0 0 0 0 0 0 0 0 0 0 0 0 0 0 0 0 0 0\n",
      " 0 0 0 0 0 0 0 0 0 0 0 0 0 0 0 0 0 0 0 0 0 0 0 0 0 0 0 0 0 0 0 0 0 0 0 0 0\n",
      " 0 0 0 0 0 0 0 0 0 0 0 0 0 0 0 0 0 0 0 0 0 0 0 0 0 0 0 0 0 0 0 0 0 0 0 0 0\n",
      " 0 0 0 0 0 0 0 0 0 0 0 0 0 0 0 0 0 0 0 0 0 0 0 0 0 0 0 0 0 0 0 0 0 0 0 0 0\n",
      " 0 0 0 0 0 0 0 0 0 0 0 0 0 0 0 0 0 0 0 0 0 0 0 0 0 0 0 0 0 0 0 0 0 0 0 0 0\n",
      " 0 0 0 0 0 0 0 0 0 0 0 0 0 0 0 0 0 0 0 0 0 0 0 0 0 0 0 0 0 0 0 0 0 0 0 0 0\n",
      " 0 0 0 0 0 0 0 0 0 0 0 0 0 0 0 0 0 0 0 0 0 0 0 0 0 0 0 0 0 0 0 0 0 0 0 0 0\n",
      " 0 0 0 0 0 0 0 0 0 0 0 0 0 0 0 0 0 0 0 0 0 0 0 0 0 0 0 0 0 0 0 0 0 0 0 0 0\n",
      " 0 0 0 0 0 0 0 0 0 0 0 0 0 0 0 0 0 0 0 0 0 0 0 0 0 0 0 0 0 0 0 0 0 0 0 0 0\n",
      " 0 0 0 0 0 0 0 0 0 0 0 0 0 0 0 0 0 0 0 0 0 0 0 0 0 0 0 0 0 0 0 0 0 0 0 0 0\n",
      " 0 0 0 0 0 0 0 0 0 0 0 0 0 0 0 0 0 0 0 0 0 0 0 0 0 0 0 0 0 0 0 0 0 0 0 0 0\n",
      " 0 0 0 0 0 0 0 0 0 0 0 0 0 0 0 0 0 0 0 0 0 0 0 0 0 0 0 0 0 0 0 0 0 0 0 0 0\n",
      " 0 0 0 0 0 0 0 0 0 0 0 0 0 0 0 0 0 0 0 0 0 0 0 0 0 0 0 0 0 0 0 0 0 0 0 0 0\n",
      " 0 0 0 0 0 0 0 0 0 0 0 0 0 0 0 0 0 0 0 0 0 0 0 0 0 0 0 0 0 0 0 0 0 0 0 0 0\n",
      " 0 0 0 0 0 0 0 0 0 0 0 0 0 0 0 0 0 0 0 0 0 0 0 0 0 0 0 0 0 0 0 0 0 0 0 0 0\n",
      " 0 0 0 0 0 0 0 0 0 0 0 0 0 0 0 0 0 0 0 0 0 0 0 0 0 0 0 0 0 0 0 0 0 0 0 0 0\n",
      " 0 0 0 0 0 0 0 0 0 0 0 0 0 0 0 0 0 0 0 0 0 0 0 0 0 0 0 0 0 0 0 0 0 0 0 0 0\n",
      " 0 0 0 0 0 0 0 0 0 0 0 0 0 0 0 0 0 0 0 0 0 0 0 0 0 0 0 0 0 0 0 0 0 0 0 0 0\n",
      " 0] [5 4 0 4 2 3 3 8 0 7 5 3 7 1 9 6 0 1 5 7 9 1 7 6 5 2 0 5 7 4 6 1 8 9 4 1 4\n",
      " 9 3 6 9 2 3 3 7 8 4 2 6 7 7 9 9 9 4 9 7 4 4 3 9 0 7 7 7 2 0 5 9 1 6 3 3 8\n",
      " 0 5 1 5 9 4 0 4 8 0 1 4 1 3 0 2 4 7 3 6 7 6 5 0 4 1 6 5 0 8 8 0 9 4 4 5 9\n",
      " 4 9 4 0 7 3 1 6 8 3 9 2 3 6 8 7 6 7 3 2 7 2 9 3 5 3 2 6 4 9 2 3 0 4 2 2 9\n",
      " 1 7 1 4 4 9 4 9 6 2 6 7 4 0 3 3 2 1 4 3 2 1 0 7 0 4 4 1 9 0 1 3 5 7 9 0 1\n",
      " 4 0 4 5 3 7 3 1 4 8 6 1 0 6 3 3 8 2 1 8 2 4 6 7 7 4 7 3 9 3 1 4 8 3 3 6 9\n",
      " 9 3 5 5 2 0 1 8 8 3 2 0 1 8 2 2 8 6 4 9 8 4 4 8 4 3 9 4 2 1 3 7 2 9 0 9 0\n",
      " 8 3 9 0 7 9 8 5 0 8 9 7 6 4 1 1 6 9 0 2 8 5 9 1 2 7 5 3 5 6 0 9 0 8 5 7 9\n",
      " 9 3 1 1 1 5 7 3 3 4 5 3 3 0 1 9 6 1 1 4 2 6 9 9 7 1 9 1 6 7 9 3 2 8 1 5 0\n",
      " 0 3 5 3 7 3 7 0 2 3 6 9 1 6 1 7 2 3 9 6 3 3 5 7 0 4 1 5 0 3 8 0 1 7 9 8 3\n",
      " 1 5 5 9 9 0 1 4 1 7 6 7 5 7 4 9 5 3 8 8 8 5 4 5 6 0 0 3 1 7 3 2 2 3 0 0 2\n",
      " 9 2 7 6 6 2 6 7 1 9 4 7 9 6 9 3 6 8 3 9 7 9 0 2 7 7 0 6 2 3 2 7 5 1 9 6 2\n",
      " 9 8 0 2 3 4 6 5 2 4 1 7 4 7 1 1 3 1 2 6 3 9 5 5 0 0 7 0 6 4 4 4 5 0 5 0 2\n",
      " 5 2 3 7 0 8 6 8 3 5 3 7 7 7 3 2 7 0 7 1 0 6 1 4 8 4 7 2 5 3 8 7 5 2 8 7 4\n",
      " 9 3 1 2 2 6 1 6 0 7 6 6 1 2 7 7 2 9 5 4 0 1 5 5 7 4 0 0 7 4 2 5 4 6 3 9 3\n",
      " 4 8 7 8 7 3 9 5 3 8 0 2 0 1 3 4 2 5 7 1 0 6 7 7 9 2 8 8 7 6 3 7 1 6 6 9 2\n",
      " 4 1 7 1 4 4 3 1 0 1 0 5 6 7 4 3 8 3 2 4 4 0 3 6 9 7 5 5 0 2 0 8 4 9 2 6 1\n",
      " 5 2 7 3 3 7 7 2 6 6 4 7 4 9 8 5 9 7 6 7 1 4 5 3 1 9 1 9 2 2 9 6 8 4 3 2 1\n",
      " 1 7 2 4 1 7 9 4 5 1 9 2 8 5 1 4 3 4 1 8 9 1 9 7 7 2 3 8 2 9 4 1 7 0 3 9 8\n",
      " 5 9 3 1 5 2 1 3 9 9 3 8 7 8 7 2 6 9 6 9 6 0 5 8 8 7 7 1 9 0 3 2 2 2 8 4 1\n",
      " 1 7 1 6 3 0 6 5 4 2 9 5 6 6 3 1 7 3 4 2 0 9 2 9 8 3 6 5 0 8 5 2 1 4 6 1 1\n",
      " 3 5 7 7 9 5 0 2 1 3 8 7 6 4 1 1 3 8 0 9 8 6 9 2 4 1 3 9 2 1 5 7 2 2 4 6 0\n",
      " 8 7 0 8 0 0 3 9 4 7 3 4 2 4 1 5 5 0 2 0 0 2 7 1 7 2 1 9 1 3 5 4 8 3 4 0 9\n",
      " 7 6 8 6 2 4 0 0 2 0 7 1 0 6 7 3 2 6 3 9 4 5 1 6 8 4 3 5 6 3 6 7 7 1 4 8 5\n",
      " 8 3 9 0 6 2 6 5 8 7 7 0 0 7 5 8 9 0 6 3 2 3 1 0 9 1 7 2 9 6 0 9 1 0 6 9 2\n",
      " 7 7 3 0 6 7 1 3 7 1 0 5 2 6 1 2 9 7 5 9 2 7 7 6 2 0 3 3 5 4 2 5 1 4 6 6 0\n",
      " 7 2 2 1 9 3 4 9 6 5 9 7 7 3 4 5 0 1 6 9 1 3 5 8 9 1 3 1 1 8 0 0 7 0 0 3 7\n",
      " 2]\n"
     ]
    },
    {
     "data": {
      "text/plain": [
       "0.102"
      ]
     },
     "execution_count": 25,
     "metadata": {},
     "output_type": "execute_result"
    }
   ],
   "source": [
    "dev_predictions = make_predictions(x_dev, W1, b1, W2, b2)\n",
    "get_accuracy(dev_predictions, y_dev)"
   ]
  }
 ],
 "metadata": {
  "interpreter": {
   "hash": "aee8b7b246df8f9039afb4144a1f6fd8d2ca17a180786b69acc140d282b71a49"
  },
  "kernelspec": {
   "display_name": "Python 3.9.7 64-bit",
   "language": "python",
   "name": "python3"
  },
  "language_info": {
   "codemirror_mode": {
    "name": "ipython",
    "version": 3
   },
   "file_extension": ".py",
   "mimetype": "text/x-python",
   "name": "python",
   "nbconvert_exporter": "python",
   "pygments_lexer": "ipython3",
   "version": "3.9.7"
  },
  "orig_nbformat": 4
 },
 "nbformat": 4,
 "nbformat_minor": 2
}
